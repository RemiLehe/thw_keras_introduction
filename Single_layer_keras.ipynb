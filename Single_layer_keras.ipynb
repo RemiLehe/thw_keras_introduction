{
 "cells": [
  {
   "cell_type": "code",
   "execution_count": null,
   "metadata": {
    "collapsed": false
   },
   "outputs": [],
   "source": [
    "import pandas as pd\n",
    "import numpy as np\n",
    "import matplotlib.pyplot as plt\n",
    "from keras.models import Sequential\n",
    "from keras.layers import Dense, Activation\n",
    "%matplotlib inline"
   ]
  },
  {
   "cell_type": "code",
   "execution_count": null,
   "metadata": {
    "collapsed": true
   },
   "outputs": [],
   "source": [
    "# Load data\n",
    "df = pd.read_csv('./data/setosa/train.csv')"
   ]
  },
  {
   "cell_type": "markdown",
   "metadata": {},
   "source": [
    "# Building the model"
   ]
  },
  {
   "cell_type": "code",
   "execution_count": null,
   "metadata": {
    "collapsed": false
   },
   "outputs": [],
   "source": [
    "# Build the model\n",
    "model = Sequential()\n",
    "model.add( Dense( output_dim=1, input_dim=2 ) )\n",
    "model.add( Activation( 'sigmoid' ) )"
   ]
  },
  {
   "cell_type": "code",
   "execution_count": 4,
   "metadata": {
    "collapsed": false
   },
   "outputs": [
    {
     "name": "stdout",
     "output_type": "stream",
     "text": [
      "____________________________________________________________________________________________________\n",
      "Layer (type)                     Output Shape          Param #     Connected to                     \n",
      "====================================================================================================\n",
      "dense_1 (Dense)                  (None, 1)             3           dense_input_1[0][0]              \n",
      "____________________________________________________________________________________________________\n",
      "activation_1 (Activation)        (None, 1)             0           dense_1[0][0]                    \n",
      "====================================================================================================\n",
      "Total params: 3\n",
      "____________________________________________________________________________________________________\n"
     ]
    }
   ],
   "source": [
    "model.summary()"
   ]
  },
  {
   "cell_type": "markdown",
   "metadata": {},
   "source": [
    "# Training"
   ]
  },
  {
   "cell_type": "code",
   "execution_count": 5,
   "metadata": {
    "collapsed": false
   },
   "outputs": [],
   "source": [
    "# Prepare the model for training\n",
    "model.compile(loss='binary_crossentropy', optimizer='adam', metrics=['accuracy'])"
   ]
  },
  {
   "cell_type": "code",
   "execution_count": 7,
   "metadata": {
    "collapsed": false
   },
   "outputs": [
    {
     "name": "stdout",
     "output_type": "stream",
     "text": [
      "Epoch 1/100\n",
      "120/120 [==============================] - 0s - loss: 0.3367 - acc: 0.6750     \n",
      "Epoch 2/100\n",
      "120/120 [==============================] - 0s - loss: 0.3357 - acc: 0.6750     \n",
      "Epoch 3/100\n",
      "120/120 [==============================] - 0s - loss: 0.3346 - acc: 0.6750     \n",
      "Epoch 4/100\n",
      "120/120 [==============================] - 0s - loss: 0.3336 - acc: 0.6750     \n",
      "Epoch 5/100\n",
      "120/120 [==============================] - 0s - loss: 0.3325 - acc: 0.6750     \n",
      "Epoch 6/100\n",
      "120/120 [==============================] - 0s - loss: 0.3315 - acc: 0.6750     \n",
      "Epoch 7/100\n",
      "120/120 [==============================] - 0s - loss: 0.3304 - acc: 0.6750     \n",
      "Epoch 8/100\n",
      "120/120 [==============================] - 0s - loss: 0.3293 - acc: 0.6750     \n",
      "Epoch 9/100\n",
      "120/120 [==============================] - 0s - loss: 0.3283 - acc: 0.6750     \n",
      "Epoch 10/100\n",
      "120/120 [==============================] - 0s - loss: 0.3273 - acc: 0.6750     \n",
      "Epoch 11/100\n",
      "120/120 [==============================] - 0s - loss: 0.3263 - acc: 0.6750     \n",
      "Epoch 12/100\n",
      "120/120 [==============================] - 0s - loss: 0.3253 - acc: 0.6750     \n",
      "Epoch 13/100\n",
      "120/120 [==============================] - 0s - loss: 0.3242 - acc: 0.6917     \n",
      "Epoch 14/100\n",
      "120/120 [==============================] - 0s - loss: 0.3233 - acc: 0.6917     \n",
      "Epoch 15/100\n",
      "120/120 [==============================] - 0s - loss: 0.3223 - acc: 0.6917     \n",
      "Epoch 16/100\n",
      "120/120 [==============================] - 0s - loss: 0.3212 - acc: 0.6917     \n",
      "Epoch 17/100\n",
      "120/120 [==============================] - 0s - loss: 0.3202 - acc: 0.6917     \n",
      "Epoch 18/100\n",
      "120/120 [==============================] - 0s - loss: 0.3193 - acc: 0.6917     \n",
      "Epoch 19/100\n",
      "120/120 [==============================] - 0s - loss: 0.3183 - acc: 0.6917     \n",
      "Epoch 20/100\n",
      "120/120 [==============================] - 0s - loss: 0.3174 - acc: 0.6917     \n",
      "Epoch 21/100\n",
      "120/120 [==============================] - 0s - loss: 0.3163 - acc: 0.6917     \n",
      "Epoch 22/100\n",
      "120/120 [==============================] - 0s - loss: 0.3154 - acc: 0.6917     \n",
      "Epoch 23/100\n",
      "120/120 [==============================] - 0s - loss: 0.3144 - acc: 0.6917     \n",
      "Epoch 24/100\n",
      "120/120 [==============================] - 0s - loss: 0.3135 - acc: 0.7083     \n",
      "Epoch 25/100\n",
      "120/120 [==============================] - 0s - loss: 0.3125 - acc: 0.7167     \n",
      "Epoch 26/100\n",
      "120/120 [==============================] - 0s - loss: 0.3115 - acc: 0.7167     \n",
      "Epoch 27/100\n",
      "120/120 [==============================] - 0s - loss: 0.3106 - acc: 0.7167     \n",
      "Epoch 28/100\n",
      "120/120 [==============================] - 0s - loss: 0.3096 - acc: 0.7167     \n",
      "Epoch 29/100\n",
      "120/120 [==============================] - 0s - loss: 0.3088 - acc: 0.7167     \n",
      "Epoch 30/100\n",
      "120/120 [==============================] - 0s - loss: 0.3077 - acc: 0.7167     \n",
      "Epoch 31/100\n",
      "120/120 [==============================] - 0s - loss: 0.3068 - acc: 0.7167     \n",
      "Epoch 32/100\n",
      "120/120 [==============================] - 0s - loss: 0.3058 - acc: 0.7167     \n",
      "Epoch 33/100\n",
      "120/120 [==============================] - 0s - loss: 0.3049 - acc: 0.7500     \n",
      "Epoch 34/100\n",
      "120/120 [==============================] - 0s - loss: 0.3040 - acc: 0.8167     \n",
      "Epoch 35/100\n",
      "120/120 [==============================] - 0s - loss: 0.3030 - acc: 0.8250     \n",
      "Epoch 36/100\n",
      "120/120 [==============================] - 0s - loss: 0.3021 - acc: 0.8250     \n",
      "Epoch 37/100\n",
      "120/120 [==============================] - 0s - loss: 0.3012 - acc: 0.8250     \n",
      "Epoch 38/100\n",
      "120/120 [==============================] - 0s - loss: 0.3002 - acc: 0.8250     \n",
      "Epoch 39/100\n",
      "120/120 [==============================] - 0s - loss: 0.2993 - acc: 0.8250     \n",
      "Epoch 40/100\n",
      "120/120 [==============================] - 0s - loss: 0.2985 - acc: 0.8250     \n",
      "Epoch 41/100\n",
      "120/120 [==============================] - 0s - loss: 0.2976 - acc: 0.8250     \n",
      "Epoch 42/100\n",
      "120/120 [==============================] - 0s - loss: 0.2966 - acc: 0.8250     \n",
      "Epoch 43/100\n",
      "120/120 [==============================] - 0s - loss: 0.2958 - acc: 0.8250     \n",
      "Epoch 44/100\n",
      "120/120 [==============================] - 0s - loss: 0.2949 - acc: 0.8250     \n",
      "Epoch 45/100\n",
      "120/120 [==============================] - 0s - loss: 0.2940 - acc: 0.8667     \n",
      "Epoch 46/100\n",
      "120/120 [==============================] - 0s - loss: 0.2931 - acc: 0.8667     \n",
      "Epoch 47/100\n",
      "120/120 [==============================] - 0s - loss: 0.2922 - acc: 0.8750     \n",
      "Epoch 48/100\n",
      "120/120 [==============================] - 0s - loss: 0.2914 - acc: 0.8750     \n",
      "Epoch 49/100\n",
      "120/120 [==============================] - 0s - loss: 0.2905 - acc: 0.8750     \n",
      "Epoch 50/100\n",
      "120/120 [==============================] - 0s - loss: 0.2896 - acc: 0.8750     \n",
      "Epoch 51/100\n",
      "120/120 [==============================] - 0s - loss: 0.2888 - acc: 0.8833     \n",
      "Epoch 52/100\n",
      "120/120 [==============================] - 0s - loss: 0.2878 - acc: 0.8833     \n",
      "Epoch 53/100\n",
      "120/120 [==============================] - 0s - loss: 0.2870 - acc: 0.8833     \n",
      "Epoch 54/100\n",
      "120/120 [==============================] - 0s - loss: 0.2861 - acc: 0.8833     \n",
      "Epoch 55/100\n",
      "120/120 [==============================] - 0s - loss: 0.2853 - acc: 0.9167     \n",
      "Epoch 56/100\n",
      "120/120 [==============================] - 0s - loss: 0.2844 - acc: 0.9250     \n",
      "Epoch 57/100\n",
      "120/120 [==============================] - 0s - loss: 0.2836 - acc: 0.9250     \n",
      "Epoch 58/100\n",
      "120/120 [==============================] - 0s - loss: 0.2827 - acc: 0.9250     \n",
      "Epoch 59/100\n",
      "120/120 [==============================] - 0s - loss: 0.2819 - acc: 0.9333     \n",
      "Epoch 60/100\n",
      "120/120 [==============================] - 0s - loss: 0.2810 - acc: 0.9333     \n",
      "Epoch 61/100\n",
      "120/120 [==============================] - 0s - loss: 0.2801 - acc: 0.9333     \n",
      "Epoch 62/100\n",
      "120/120 [==============================] - 0s - loss: 0.2793 - acc: 0.9333     \n",
      "Epoch 63/100\n",
      "120/120 [==============================] - 0s - loss: 0.2784 - acc: 0.9333     \n",
      "Epoch 64/100\n",
      "120/120 [==============================] - 0s - loss: 0.2776 - acc: 0.9333     \n",
      "Epoch 65/100\n",
      "120/120 [==============================] - 0s - loss: 0.2768 - acc: 0.9417     \n",
      "Epoch 66/100\n",
      "120/120 [==============================] - 0s - loss: 0.2759 - acc: 0.9417     \n",
      "Epoch 67/100\n",
      "120/120 [==============================] - 0s - loss: 0.2751 - acc: 0.9417     \n",
      "Epoch 68/100\n",
      "120/120 [==============================] - 0s - loss: 0.2742 - acc: 0.9417     \n",
      "Epoch 69/100\n",
      "120/120 [==============================] - 0s - loss: 0.2734 - acc: 0.9417     \n",
      "Epoch 70/100\n",
      "120/120 [==============================] - 0s - loss: 0.2725 - acc: 0.9417     \n",
      "Epoch 71/100\n",
      "120/120 [==============================] - 0s - loss: 0.2717 - acc: 0.9417     \n",
      "Epoch 72/100\n",
      "120/120 [==============================] - 0s - loss: 0.2709 - acc: 0.9417     \n",
      "Epoch 73/100\n",
      "120/120 [==============================] - 0s - loss: 0.2701 - acc: 0.9417     \n",
      "Epoch 74/100\n",
      "120/120 [==============================] - 0s - loss: 0.2693 - acc: 0.9417     \n",
      "Epoch 75/100\n",
      "120/120 [==============================] - 0s - loss: 0.2684 - acc: 0.9417     \n",
      "Epoch 76/100\n",
      "120/120 [==============================] - 0s - loss: 0.2677 - acc: 0.9667     \n",
      "Epoch 77/100\n",
      "120/120 [==============================] - 0s - loss: 0.2668 - acc: 0.9667     \n",
      "Epoch 78/100\n",
      "120/120 [==============================] - 0s - loss: 0.2660 - acc: 0.9667     \n",
      "Epoch 79/100\n",
      "120/120 [==============================] - 0s - loss: 0.2652 - acc: 0.9667     \n",
      "Epoch 80/100\n",
      "120/120 [==============================] - 0s - loss: 0.2645 - acc: 0.9667     \n",
      "Epoch 81/100\n",
      "120/120 [==============================] - 0s - loss: 0.2637 - acc: 0.9667     \n",
      "Epoch 82/100\n",
      "120/120 [==============================] - 0s - loss: 0.2629 - acc: 0.9667     \n",
      "Epoch 83/100\n",
      "120/120 [==============================] - 0s - loss: 0.2622 - acc: 0.9667     \n",
      "Epoch 84/100\n",
      "120/120 [==============================] - 0s - loss: 0.2614 - acc: 0.9750     \n",
      "Epoch 85/100\n",
      "120/120 [==============================] - 0s - loss: 0.2605 - acc: 0.9750     \n",
      "Epoch 86/100\n",
      "120/120 [==============================] - 0s - loss: 0.2598 - acc: 0.9750     \n",
      "Epoch 87/100\n",
      "120/120 [==============================] - 0s - loss: 0.2591 - acc: 0.9750     \n",
      "Epoch 88/100\n",
      "120/120 [==============================] - 0s - loss: 0.2583 - acc: 0.9750     \n",
      "Epoch 89/100\n",
      "120/120 [==============================] - 0s - loss: 0.2575 - acc: 0.9750     \n",
      "Epoch 90/100\n",
      "120/120 [==============================] - 0s - loss: 0.2567 - acc: 0.9750     \n",
      "Epoch 91/100\n",
      "120/120 [==============================] - 0s - loss: 0.2560 - acc: 0.9833     \n",
      "Epoch 92/100\n",
      "120/120 [==============================] - 0s - loss: 0.2553 - acc: 0.9833     \n",
      "Epoch 93/100\n",
      "120/120 [==============================] - 0s - loss: 0.2545 - acc: 0.9833     \n",
      "Epoch 94/100\n",
      "120/120 [==============================] - 0s - loss: 0.2537 - acc: 0.9833     \n",
      "Epoch 95/100\n",
      "120/120 [==============================] - 0s - loss: 0.2529 - acc: 0.9833     \n",
      "Epoch 96/100\n",
      "120/120 [==============================] - 0s - loss: 0.2522 - acc: 0.9833     \n",
      "Epoch 97/100\n",
      "120/120 [==============================] - 0s - loss: 0.2514 - acc: 0.9833     \n",
      "Epoch 98/100\n",
      "120/120 [==============================] - 0s - loss: 0.2507 - acc: 0.9833     \n",
      "Epoch 99/100\n",
      "120/120 [==============================] - 0s - loss: 0.2499 - acc: 0.9833     \n",
      "Epoch 100/100\n",
      "120/120 [==============================] - 0s - loss: 0.2492 - acc: 0.9833     \n"
     ]
    },
    {
     "data": {
      "text/plain": [
       "<keras.callbacks.History at 0x114ab5710>"
      ]
     },
     "execution_count": 7,
     "metadata": {},
     "output_type": "execute_result"
    }
   ],
   "source": [
    "X = df[['petal width (cm)', 'petal length (cm)']].values\n",
    "y = df['setosa'].values\n",
    "\n",
    "model.fit( X, y, batch_size=16, nb_epoch=100, verbose=1 )"
   ]
  },
  {
   "cell_type": "markdown",
   "metadata": {},
   "source": [
    "**TODO Mention what is happening + discuss stochasticity**"
   ]
  },
  {
   "cell_type": "markdown",
   "metadata": {},
   "source": [
    "# Evaluating"
   ]
  },
  {
   "cell_type": "code",
   "execution_count": 8,
   "metadata": {
    "collapsed": true
   },
   "outputs": [],
   "source": [
    "def plot_keras_model():\n",
    "    \n",
    "    # Calculate the probability on a mesh\n",
    "    petal_width_mesh, petal_length_mesh = \\\n",
    "        np.meshgrid( np.linspace(0,3,100), np.linspace(0,8,100) )\n",
    "    petal_width_mesh = petal_width_mesh.flatten()\n",
    "    petal_length_mesh = petal_length_mesh.flatten()\n",
    "    p = model.predict( np.stack( (petal_width_mesh, petal_length_mesh), axis=1 ) )\n",
    "    p = p.reshape((100,100))\n",
    "    # Plot the probability on the mesh\n",
    "    plt.clf()\n",
    "    plt.imshow( p.T, extent=[0,3,0,8], origin='lower', \n",
    "               vmin=0, vmax=1, cmap='RdBu', aspect='auto', alpha=0.7 )\n",
    "    \n",
    "    # Plot the data points\n",
    "    plt.scatter( df['petal width (cm)'], df['petal length (cm)'], c=df['setosa'], cmap='RdBu')\n",
    "    plt.xlabel('petal width (cm)')\n",
    "    plt.ylabel('petal length (cm)')\n",
    "    cb = plt.colorbar()\n",
    "    cb.set_label('setosa')"
   ]
  },
  {
   "cell_type": "code",
   "execution_count": 9,
   "metadata": {
    "collapsed": false
   },
   "outputs": [
    {
     "data": {
      "image/png": "[encoded data removed]",
      "text/plain": [
       "<matplotlib.figure.Figure at 0x11453ec50>"
      ]
     },
     "metadata": {},
     "output_type": "display_data"
    }
   ],
   "source": [
    "plot_keras_model()"
   ]
  },
  {
   "cell_type": "code",
   "execution_count": 13,
   "metadata": {
    "collapsed": false
   },
   "outputs": [
    {
     "data": {
      "text/plain": [
       "[array([[-0.94103497],\n",
       "        [-0.48457891]], dtype=float32), array([ 1.18619859], dtype=float32)]"
      ]
     },
     "execution_count": 13,
     "metadata": {},
     "output_type": "execute_result"
    }
   ],
   "source": [
    "model.layers[0].get_weights() "
   ]
  },
  {
   "cell_type": "code",
   "execution_count": null,
   "metadata": {
    "collapsed": true
   },
   "outputs": [],
   "source": []
  }
 ],
 "metadata": {
  "anaconda-cloud": {},
  "kernelspec": {
   "display_name": "Python [conda env:thw]",
   "language": "python",
   "name": "conda-env-thw-py"
  },
  "language_info": {
   "codemirror_mode": {
    "name": "ipython",
    "version": 3
   },
   "file_extension": ".py",
   "mimetype": "text/x-python",
   "name": "python",
   "nbconvert_exporter": "python",
   "pygments_lexer": "ipython3",
   "version": "3.5.2"
  }
 },
 "nbformat": 4,
 "nbformat_minor": 1
}
